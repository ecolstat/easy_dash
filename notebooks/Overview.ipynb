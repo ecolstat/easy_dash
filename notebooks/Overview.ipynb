{
 "cells": [
  {
   "cell_type": "code",
   "execution_count": 1,
   "metadata": {},
   "outputs": [],
   "source": [
    "from easy_dash import EasyDash\n",
    "import dash_html_components as html\n",
    "import dash_core_components as dcc"
   ]
  },
  {
   "cell_type": "code",
   "execution_count": 2,
   "metadata": {},
   "outputs": [],
   "source": [
    "import matplotlib.pyplot as plt"
   ]
  },
  {
   "cell_type": "code",
   "execution_count": 3,
   "metadata": {},
   "outputs": [
    {
     "data": {
      "text/html": [
       "<a href=\"http://localhost:9999\" target=\"_new\">Open in new window</a><hr><iframe src=\"http://localhost:9999\" width=100% height=700></iframe>"
      ]
     },
     "metadata": {},
     "output_type": "display_data"
    },
    {
     "name": "stdout",
     "output_type": "stream",
     "text": [
      " * Serving Flask app \"simple_demo\" (lazy loading)\n",
      " * Environment: production\n",
      "   WARNING: Do not use the development server in a production environment.\n",
      "   Use a production WSGI server instead.\n",
      " * Debug mode: off\n"
     ]
    },
    {
     "name": "stderr",
     "output_type": "stream",
     "text": [
      " * Running on http://0.0.0.0:9999/ (Press CTRL+C to quit)\n"
     ]
    },
    {
     "data": {
      "text/plain": [
       "<easy_dash.easydash.EasyDash at 0x118fea908>"
      ]
     },
     "execution_count": 3,
     "metadata": {},
     "output_type": "execute_result"
    }
   ],
   "source": [
    "app_simple = EasyDash('simple_demo')\n",
    "app_simple.layout = html.Div(\n",
    "    [\n",
    "        dcc.Input(id=\"input\", value=\"initial value\"),\n",
    "        html.Div(id=\"output1\")\n",
    "    ]\n",
    ")\n",
    "\n",
    "@app_simple.auto_callback()\n",
    "def update_output1(input):\n",
    "    return input\n",
    "app_simple"
   ]
  },
  {
   "cell_type": "markdown",
   "metadata": {},
   "source": [
    "## Matplotlib Demo"
   ]
  },
  {
   "cell_type": "code",
   "execution_count": 4,
   "metadata": {},
   "outputs": [],
   "source": [
    "app_mpl = EasyDash('mpl_demo')\n",
    "app_mpl.layout = html.Div(\n",
    "    [\n",
    "        dcc.Input(id=\"input1\", value=\"initial value\"),\n",
    "        html.Div(id=\"output1\")\n",
    "    ]\n",
    ")\n",
    "    \n",
    "@app_mpl.mpl_callback()\n",
    "def update_output1(input1):\n",
    "    fig, ax1 = plt.subplots(1, 1)\n",
    "    ax1.plot([0, 1, 1, 0], [0, 0, 1, 1], 'r-.')\n",
    "    ax1.set_title(input1)\n",
    "    return fig"
   ]
  },
  {
   "cell_type": "code",
   "execution_count": 5,
   "metadata": {},
   "outputs": [
    {
     "data": {
      "text/html": [
       "<a href=\"http://localhost:9999\" target=\"_new\">Open in new window</a><hr><iframe src=\"http://localhost:9999\" width=100% height=700></iframe>"
      ]
     },
     "metadata": {},
     "output_type": "display_data"
    },
    {
     "name": "stdout",
     "output_type": "stream",
     "text": [
      " * Serving Flask app \"mpl_demo\" (lazy loading)\n",
      " * Environment: production\n",
      "   WARNING: Do not use the development server in a production environment.\n",
      "   Use a production WSGI server instead.\n",
      " * Debug mode: off\n"
     ]
    },
    {
     "name": "stderr",
     "output_type": "stream",
     "text": [
      " * Running on http://0.0.0.0:9999/ (Press CTRL+C to quit)\n",
      "127.0.0.1 - - [05/Apr/2019 00:28:55] \"GET / HTTP/1.1\" 200 -\n",
      "127.0.0.1 - - [05/Apr/2019 00:28:56] \"GET /_dash-layout HTTP/1.1\" 200 -\n",
      "127.0.0.1 - - [05/Apr/2019 00:28:56] \"GET /_dash-dependencies HTTP/1.1\" 200 -\n",
      "127.0.0.1 - - [05/Apr/2019 00:28:56] \"POST /_dash-update-component HTTP/1.1\" 200 -\n"
     ]
    },
    {
     "data": {
      "text/plain": [
       "<easy_dash.easydash.EasyDash at 0x1190824e0>"
      ]
     },
     "execution_count": 5,
     "metadata": {},
     "output_type": "execute_result"
    }
   ],
   "source": [
    "app_mpl"
   ]
  },
  {
   "cell_type": "code",
   "execution_count": 5,
   "metadata": {},
   "outputs": [],
   "source": [
    "app_mpl = EasyDash('mpl_plotly_demo')\n",
    "app_mpl.layout = html.Div(\n",
    "    [\n",
    "        dcc.Input(id=\"input1\", value=\"initial value\"),\n",
    "        html.Div(id=\"output1\")\n",
    "    ]\n",
    ")\n",
    "    \n",
    "@app_mpl.auto_callback(use_plotly=True)\n",
    "def update_output1(input1):\n",
    "    fig, ax1 = plt.subplots(1, 1)\n",
    "    ax1.plot([0, 1, 1, 0], [0, 0, 1, 1], 'r-.')\n",
    "    ax1.set_title(input1)\n",
    "    return fig"
   ]
  },
  {
   "cell_type": "code",
   "execution_count": 6,
   "metadata": {},
   "outputs": [
    {
     "data": {
      "text/html": [
       "<a href=\"http://localhost:9999\" target=\"_new\">Open in new window</a><hr><iframe src=\"http://localhost:9999\" width=100% height=700></iframe>"
      ]
     },
     "metadata": {},
     "output_type": "display_data"
    },
    {
     "name": "stdout",
     "output_type": "stream",
     "text": [
      " * Serving Flask app \"mpl_demo\" (lazy loading)\n",
      " * Environment: production\n",
      "   WARNING: Do not use the development server in a production environment.\n",
      "   Use a production WSGI server instead.\n",
      " * Debug mode: off\n"
     ]
    },
    {
     "name": "stderr",
     "output_type": "stream",
     "text": [
      " * Running on http://0.0.0.0:9999/ (Press CTRL+C to quit)\n",
      "127.0.0.1 - - [05/Apr/2019 08:56:45] \"GET / HTTP/1.1\" 200 -\n",
      "127.0.0.1 - - [05/Apr/2019 08:56:45] \"GET /_dash-layout HTTP/1.1\" 200 -\n",
      "127.0.0.1 - - [05/Apr/2019 08:56:45] \"GET /_dash-dependencies HTTP/1.1\" 200 -\n",
      "127.0.0.1 - - [05/Apr/2019 08:56:45] \"POST /_dash-update-component HTTP/1.1\" 200 -\n"
     ]
    },
    {
     "data": {
      "text/plain": [
       "<easy_dash.easydash.EasyDash at 0x12351af98>"
      ]
     },
     "execution_count": 6,
     "metadata": {},
     "output_type": "execute_result"
    }
   ],
   "source": [
    "app_mpl"
   ]
  },
  {
   "cell_type": "code",
   "execution_count": null,
   "metadata": {},
   "outputs": [],
   "source": []
  }
 ],
 "metadata": {
  "kernelspec": {
   "display_name": "Python 3",
   "language": "python",
   "name": "python3"
  },
  "language_info": {
   "codemirror_mode": {
    "name": "ipython",
    "version": 3
   },
   "file_extension": ".py",
   "mimetype": "text/x-python",
   "name": "python",
   "nbconvert_exporter": "python",
   "pygments_lexer": "ipython3",
   "version": "3.7.3"
  }
 },
 "nbformat": 4,
 "nbformat_minor": 2
}
