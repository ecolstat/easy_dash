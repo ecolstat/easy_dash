{
 "cells": [
  {
   "cell_type": "code",
   "execution_count": null,
   "metadata": {},
   "outputs": [],
   "source": [
    "from easy_dash import EasyDash\n",
    "import dash_html_components as html\n",
    "import dash_core_components as dcc\n",
    "from dash.dependencies import Input, Output, State"
   ]
  },
  {
   "cell_type": "code",
   "execution_count": null,
   "metadata": {},
   "outputs": [],
   "source": [
    "import matplotlib.pyplot as plt"
   ]
  },
  {
   "cell_type": "markdown",
   "metadata": {},
   "source": [
    "## Boring Demo\n",
    "Link it up"
   ]
  },
  {
   "cell_type": "code",
   "execution_count": null,
   "metadata": {
    "scrolled": true
   },
   "outputs": [],
   "source": [
    "app_simple = EasyDash('simple_demo')\n",
    "app_simple.layout = html.Div(\n",
    "    [\n",
    "        dcc.Input(id=\"sillyfield\", value=\"initial value\"),\n",
    "        html.Div(id=\"output1\")\n",
    "    ]\n",
    ")\n",
    "\n",
    "#@app_simple.auto_callback()\n",
    "@app_simple.callback(output=)\n",
    "def update_output1(sillyfield):\n",
    "    return sillyfield\n",
    "app_simple"
   ]
  },
  {
   "cell_type": "markdown",
   "metadata": {},
   "source": [
    "## State Example"
   ]
  },
  {
   "cell_type": "code",
   "execution_count": null,
   "metadata": {
    "scrolled": true
   },
   "outputs": [],
   "source": [
    "app_state = EasyDash('state_demo')\n",
    "app_state.layout = html.Div(\n",
    "    [\n",
    "        dcc.Input(id=\"sillyfield\", value=\"initial value\"),\n",
    "        dcc.Input(id=\"junk\", value=\"junk\"),\n",
    "        html.Div(id=\"output1\")\n",
    "    ]\n",
    ")\n",
    "\n",
    "@app_state.auto_callback()\n",
    "def update_output1(sillyfield, state_junk):\n",
    "    return '{}-{}'.format(sillyfield, state_junk)\n",
    "app_state"
   ]
  },
  {
   "cell_type": "markdown",
   "metadata": {},
   "source": [
    "## Matplotlib Demo"
   ]
  },
  {
   "cell_type": "code",
   "execution_count": null,
   "metadata": {},
   "outputs": [],
   "source": [
    "app_mpl = EasyDash('mpl_demo')\n",
    "app_mpl.layout = html.Div(\n",
    "    [\n",
    "        dcc.Input(id=\"input1\", value=\"initial value\"),\n",
    "        html.Div(id=\"output1\")\n",
    "    ]\n",
    ")\n",
    "    \n",
    "@app_mpl.mpl_callback()\n",
    "def update_output1(input1):\n",
    "    fig, ax1 = plt.subplots(1, 1)\n",
    "    ax1.plot([0, 1, 1, 0], [0, 0, 1, 1], 'r-.')\n",
    "    ax1.set_title(input1)\n",
    "    return fig"
   ]
  },
  {
   "cell_type": "code",
   "execution_count": null,
   "metadata": {},
   "outputs": [],
   "source": [
    "app_mpl"
   ]
  },
  {
   "cell_type": "code",
   "execution_count": null,
   "metadata": {},
   "outputs": [],
   "source": [
    "app_mpl = EasyDash('mpl_plotly_demo')\n",
    "app_mpl.layout = html.Div(\n",
    "    [\n",
    "        dcc.Input(id=\"input1\", value=\"initial value\"),\n",
    "        html.Div(id=\"output1\")\n",
    "    ]\n",
    ")\n",
    "    \n",
    "@app_mpl.auto_callback(use_plotly=True)\n",
    "def update_output1(input1):\n",
    "    fig, ax1 = plt.subplots(1, 1)\n",
    "    ax1.plot([0, 1, 1, 0], [0, 0, 1, 1], 'r-.')\n",
    "    ax1.set_title(input1)\n",
    "    return fig"
   ]
  },
  {
   "cell_type": "code",
   "execution_count": null,
   "metadata": {},
   "outputs": [],
   "source": [
    "app_mpl"
   ]
  },
  {
   "cell_type": "code",
   "execution_count": null,
   "metadata": {},
   "outputs": [],
   "source": []
  }
 ],
 "metadata": {
  "kernelspec": {
   "display_name": "Python 3",
   "language": "python",
   "name": "python3"
  },
  "language_info": {
   "codemirror_mode": {
    "name": "ipython",
    "version": 3
   },
   "file_extension": ".py",
   "mimetype": "text/x-python",
   "name": "python",
   "nbconvert_exporter": "python",
   "pygments_lexer": "ipython3",
   "version": "3.7.3"
  }
 },
 "nbformat": 4,
 "nbformat_minor": 2
}
